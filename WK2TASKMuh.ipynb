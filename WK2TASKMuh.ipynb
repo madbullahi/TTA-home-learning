{
 "cells": [
  {
   "cell_type": "markdown",
   "metadata": {},
   "source": [
    "TASK1"
   ]
  },
  {
   "cell_type": "code",
   "execution_count": 20,
   "metadata": {},
   "outputs": [
    {
     "name": "stdout",
     "output_type": "stream",
     "text": [
      "3\n",
      "10\n",
      "2\n",
      "5\n",
      "2\n",
      "8\n",
      "8\n",
      "8\n",
      "7\n",
      "4\n"
     ]
    }
   ],
   "source": [
    "\"\"\"\n",
    "a. write a program that stores a random number (1-10)\n",
    "in a variable.\n",
    "\"\"\"\n",
    "from random import seed # the randome number generator generates a sequence of random integer value \n",
    "from random import randint # by taking a prameter to start of the sequence using seed.\n",
    "#random is a module that has a suites of functions for generating random numbers.\n",
    "\n",
    "seed(1) # seed random number generator\n",
    "for _ in range (10): # _ represents the local variable (value)\n",
    "    value= randint(1,10)\n",
    "    print(value) #generate some integers\n"
   ]
  },
  {
   "cell_type": "code",
   "execution_count": 18,
   "metadata": {},
   "outputs": [
    {
     "name": "stdout",
     "output_type": "stream",
     "text": [
      "7\n",
      "7\n",
      "1\n",
      "5\n",
      "9\n",
      "8\n",
      "7\n",
      "5\n",
      "8\n",
      "6\n"
     ]
    }
   ],
   "source": [
    "from random import seed\n",
    "from random import randint\n",
    "\n",
    "seed(0) # reset the seed \n",
    "for _ in range(10):\n",
    "    value=randint(1,10)\n",
    "    print(value)"
   ]
  },
  {
   "cell_type": "code",
   "execution_count": 23,
   "metadata": {},
   "outputs": [
    {
     "name": "stdout",
     "output_type": "stream",
     "text": [
      "My name is Ben\n"
     ]
    }
   ],
   "source": [
    "\"\"\"\n",
    "b. ask a user for their name \n",
    "and store this in a variable\n",
    "\"\"\"\n",
    "use_Name=str(input(\"What is your name?.\")) # the variable use_Name storee the name of the user\n",
    "print(use_Name)"
   ]
  },
  {
   "cell_type": "code",
   "execution_count": 26,
   "metadata": {},
   "outputs": [
    {
     "name": "stdout",
     "output_type": "stream",
     "text": [
      "User_number_guess=8\n"
     ]
    }
   ],
   "source": [
    "\"\"\"\n",
    "c. ask a user to gues a number between (1-10) and store this in a variable\n",
    "\"\"\"\n",
    "User_number_guess=int(input(\"Gues a number between 1-10\"))\n",
    "if User_number_guess==1:\n",
    "    print('User_number_guess=1')\n",
    "elif User_number_guess==8:\n",
    "    print('User_number_guess=8')\n",
    "else:\n",
    "    print(\"The gues was correct\")\n",
    "\n"
   ]
  },
  {
   "cell_type": "markdown",
   "metadata": {},
   "source": [
    "TASK 2"
   ]
  },
  {
   "cell_type": "code",
   "execution_count": 29,
   "metadata": {},
   "outputs": [
    {
     "name": "stdout",
     "output_type": "stream",
     "text": [
      "your face looks like mashed potatoes\n"
     ]
    }
   ],
   "source": [
    "\"\"\"\n",
    "write a program that asks a user for their favorite number\n",
    "between 1 and 100 and then tells them a joke based on the \n",
    "number. You shuold use a minimum of 3 jokes.\n",
    "\"\"\"\n",
    "favoriteNumber=int(input(\"What is your favorite number between 1-100?\"))\n",
    "if favoriteNumber==30:\n",
    "    print(\"Your favorite number is for clowns\")\n",
    "elif favoriteNumber==29:\n",
    "    print(\"your face looks like mashed potatoes\")\n",
    "elif favoriteNumber==50:\n",
    "    print(\"Your hair color will turn blue on your next birthday\")\n",
    "elif favoriteNumber==8:\n",
    "    print(\"You have a thin neck\")\n",
    "else:\n",
    "    print(\"You are right my face looks like a mashed potato\")\n",
    "\n",
    "\n",
    " \n",
    "\n"
   ]
  },
  {
   "cell_type": "markdown",
   "metadata": {},
   "source": [
    "Task 3"
   ]
  },
  {
   "cell_type": "code",
   "execution_count": 31,
   "metadata": {},
   "outputs": [],
   "source": [
    "\"\"\"\n",
    "write a program that allows user to to enter their favorite \n",
    "starter, main course, dessert and drink\n",
    "\n",
    "concatenate these output message which says 'Your favorte meal is... with a glass of ...'\n",
    "\"\"\"\n",
    "favoriteStarter=str(input(\"Enter your favorite starter\"))\n",
    "\n"
   ]
  },
  {
   "cell_type": "code",
   "execution_count": 32,
   "metadata": {},
   "outputs": [],
   "source": [
    "main_course=str(input(\"Enter your main course\"))"
   ]
  },
  {
   "cell_type": "code",
   "execution_count": 33,
   "metadata": {},
   "outputs": [],
   "source": [
    "dessert=str(input(\"Enter your favorite dessert\"))"
   ]
  },
  {
   "cell_type": "code",
   "execution_count": 34,
   "metadata": {},
   "outputs": [],
   "source": [
    "drink=str(input(\"Enter your favorite drink\"))"
   ]
  },
  {
   "cell_type": "code",
   "execution_count": 36,
   "metadata": {},
   "outputs": [
    {
     "name": "stdout",
     "output_type": "stream",
     "text": [
      "Your favorite meal is  fried rice  with a glass of coconut juice\n"
     ]
    }
   ],
   "source": [
    "print(\"Your favorite meal is \", main_course,\" with a glass of\", drink)"
   ]
  },
  {
   "cell_type": "markdown",
   "metadata": {},
   "source": [
    "TASK 4"
   ]
  },
  {
   "cell_type": "code",
   "execution_count": 37,
   "metadata": {},
   "outputs": [
    {
     "ename": "SyntaxError",
     "evalue": "invalid character '£' (U+00A3) (Temp/ipykernel_14092/3115940014.py, line 5)",
     "output_type": "error",
     "traceback": [
      "\u001b[1;36m  File \u001b[1;32m\"C:\\Users\\mxa1132\\AppData\\Local\\Temp/ipykernel_14092/3115940014.py\"\u001b[1;36m, line \u001b[1;32m5\u001b[0m\n\u001b[1;33m    cost_of_bike=£2000\u001b[0m\n\u001b[1;37m                 ^\u001b[0m\n\u001b[1;31mSyntaxError\u001b[0m\u001b[1;31m:\u001b[0m invalid character '£' (U+00A3)\n"
     ]
    }
   ],
   "source": [
    "\"\"\"\n",
    "A motorbike cost £2000, and loses 10% of its value every year. Using a loop, print the value of the bike \n",
    "every following year until it falls below £1000.\n",
    "\"\"\"\n",
    "cost_of_bike=2000\n",
    "lost_in_valuePer_year=0.1\n",
    "\n",
    "while cost_of_bike >1000:\n",
    "    print(cost_of_bike*0.9)"
   ]
  },
  {
   "cell_type": "code",
   "execution_count": null,
   "metadata": {},
   "outputs": [],
   "source": [
    "TAsk 5"
   ]
  },
  {
   "cell_type": "code",
   "execution_count": 3,
   "metadata": {},
   "outputs": [],
   "source": [
    "\"\"\"\n",
    "Write a program which will ask for two numbers from a user. \n",
    "Then offer a menu to the user giving them a choice of operator:e.g. –Enter “a” if you want to \n",
    "add“b” if you want to subtract\n",
    "Include +, -, /, *, ** square (to the power of). \n",
    "Once the user has selected which operator they wish to use, perform the calculation.\n",
    "\"\"\"\n",
    "\n",
    "user_1=int(input(\"pick a number\"))"
   ]
  },
  {
   "cell_type": "code",
   "execution_count": 4,
   "metadata": {},
   "outputs": [],
   "source": [
    "user_2=int(input(\"pick a second number\"))"
   ]
  },
  {
   "cell_type": "code",
   "execution_count": 14,
   "metadata": {},
   "outputs": [],
   "source": [
    "sign=str(input(\"pick an operator\"))"
   ]
  },
  {
   "cell_type": "code",
   "execution_count": 15,
   "metadata": {},
   "outputs": [
    {
     "name": "stdout",
     "output_type": "stream",
     "text": [
      "a\n"
     ]
    }
   ],
   "source": [
    "\n",
    "print(sign)"
   ]
  },
  {
   "cell_type": "code",
   "execution_count": 18,
   "metadata": {},
   "outputs": [
    {
     "name": "stdout",
     "output_type": "stream",
     "text": [
      "73\n"
     ]
    }
   ],
   "source": [
    "if sign==\"a\":\n",
    "    print(user_1 + user_2)\n",
    "elif sign==\"a\":\n",
    "    print(user_1 -user_2)\n",
    "elif sign==\"a\":\n",
    "    print(user_1 * user_2)\n",
    "elif sign==\"a\":\n",
    "    print(user_1 / user_2)\n",
    "elif sign==\"a\":\n",
    "    print(user_1 ** user_2)\n",
    "else:\n",
    "    print(\"An inappropriate operator was not selected\")"
   ]
  }
 ],
 "metadata": {
  "interpreter": {
   "hash": "bcffa6204622ef85947aebc6021b6d22848690e83046bed0c1de5e1c8674fbfb"
  },
  "kernelspec": {
   "display_name": "Python 3.10.0 64-bit",
   "language": "python",
   "name": "python3"
  },
  "language_info": {
   "codemirror_mode": {
    "name": "ipython",
    "version": 3
   },
   "file_extension": ".py",
   "mimetype": "text/x-python",
   "name": "python",
   "nbconvert_exporter": "python",
   "pygments_lexer": "ipython3",
   "version": "3.10.0"
  },
  "orig_nbformat": 4
 },
 "nbformat": 4,
 "nbformat_minor": 2
}
