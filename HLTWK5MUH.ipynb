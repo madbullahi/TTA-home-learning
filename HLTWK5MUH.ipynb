{
 "cells": [
  {
   "cell_type": "code",
   "execution_count": 21,
   "metadata": {},
   "outputs": [
    {
     "name": "stdout",
     "output_type": "stream",
     "text": [
      "     Destination  feedback score  AverageHotel  Number all Inclusive  \\\n",
      "0        Morroco               8             4                 20000   \n",
      "1        Nigeria               9             3                  5000   \n",
      "2       Cameroun               6             3                   700   \n",
      "3          Ghana               5             2                   400   \n",
      "4          Sudan               3             4                  8000   \n",
      "5    GuineaBisau               2             1                   300   \n",
      "6   Burkina Faso               4             2                   600   \n",
      "7           Mali               8             1                   900   \n",
      "8        Tunisia               5             2                   200   \n",
      "9         Gambia               6             5                  3000   \n",
      "10       Namibia               7             1                   400   \n",
      "11         Kenya               9             3                   500   \n",
      "12   SouthAfrica               9             2                   600   \n",
      "13         Gabon               7             3                   100   \n",
      "\n",
      "   Most Visited City  \n",
      "0          Marrakesh  \n",
      "1              Abuja  \n",
      "2             Douala  \n",
      "3              Accra  \n",
      "4           Khartuom  \n",
      "5             Bolama  \n",
      "6            Banfora  \n",
      "7             Bamako  \n",
      "8           Carthage  \n",
      "9             Banjul  \n",
      "10          Windhoek  \n",
      "11           Nairobi  \n",
      "12      Johannesburg  \n",
      "13       Port-Gentil  \n"
     ]
    },
    {
     "data": {
      "text/plain": [
       "(14, 5)"
      ]
     },
     "execution_count": 21,
     "metadata": {},
     "output_type": "execute_result"
    }
   ],
   "source": [
    "import pandas as pd\n",
    "\n",
    "x = pd.read_csv(\"Holiday_Destinations.csv\")#returns the csv file of the data.\n",
    "print(x)\n",
    "x.shape # returns the number of rows an column"
   ]
  },
  {
   "cell_type": "code",
   "execution_count": 9,
   "metadata": {},
   "outputs": [
    {
     "name": "stdout",
     "output_type": "stream",
     "text": [
      "    Destination  feedback score  AverageHotel  Number all Inclusive  \\\n",
      "2      Cameroun               6             3                   700   \n",
      "3         Ghana               5             2                   400   \n",
      "4         Sudan               3             4                  8000   \n",
      "5   GuineaBisau               2             1                   300   \n",
      "6  Burkina Faso               4             2                   600   \n",
      "7          Mali               8             1                   900   \n",
      "\n",
      "  Most Visited City  \n",
      "2            Douala  \n",
      "3             Accra  \n",
      "4          Khartuom  \n",
      "5            Bolama  \n",
      "6           Banfora  \n",
      "7            Bamako  \n"
     ]
    }
   ],
   "source": [
    "print(x.iloc[2:8])#returns the values from row 3-8"
   ]
  },
  {
   "cell_type": "code",
   "execution_count": 15,
   "metadata": {},
   "outputs": [
    {
     "name": "stdout",
     "output_type": "stream",
     "text": [
      "2907.1428571428573\n"
     ]
    }
   ],
   "source": [
    "print(x[\"Number all Inclusive\"].mean())#returns the average"
   ]
  },
  {
   "cell_type": "code",
   "execution_count": 92,
   "metadata": {},
   "outputs": [
    {
     "name": "stdout",
     "output_type": "stream",
     "text": [
      "feedback score               2\n",
      "Destination       Burkina Faso\n",
      "dtype: object\n"
     ]
    }
   ],
   "source": [
    "score = x[[\"feedback score\",\"Destination\"]] \n",
    "print(score.min())#'returns the lowest score."
   ]
  },
  {
   "cell_type": "code",
   "execution_count": 44,
   "metadata": {},
   "outputs": [
    {
     "name": "stdout",
     "output_type": "stream",
     "text": [
      "feedback score          9\n",
      "Destination       Tunisia\n",
      "dtype: object\n"
     ]
    }
   ],
   "source": [
    "print(score.max())#returns the highest score."
   ]
  },
  {
   "cell_type": "code",
   "execution_count": 93,
   "metadata": {},
   "outputs": [
    {
     "name": "stdout",
     "output_type": "stream",
     "text": [
      "    Number all Inclusive   Destination\n",
      "0                  20000       Morroco\n",
      "1                   5000       Nigeria\n",
      "2                    700      Cameroun\n",
      "3                    400         Ghana\n",
      "4                   8000         Sudan\n",
      "5                    300   GuineaBisau\n",
      "6                    600  Burkina Faso\n",
      "7                    900          Mali\n",
      "8                    200       Tunisia\n",
      "9                   3000        Gambia\n",
      "10                   400       Namibia\n",
      "11                   500         Kenya\n",
      "12                   600   SouthAfrica\n",
      "13                   100         Gabon\n"
     ]
    },
    {
     "data": {
      "text/plain": [
       "0     True\n",
       "1     True\n",
       "2     True\n",
       "3     True\n",
       "4     True\n",
       "5     True\n",
       "6     True\n",
       "7     True\n",
       "8     True\n",
       "9     True\n",
       "10    True\n",
       "11    True\n",
       "12    True\n",
       "13    True\n",
       "Name: Number all Inclusive, dtype: bool"
      ]
     },
     "execution_count": 93,
     "metadata": {},
     "output_type": "execute_result"
    }
   ],
   "source": [
    "hotels_destinations = x[[\"Number all Inclusive\",\"Destination\"]]\n",
    "print(hotels_destinations)\n",
    "hotels_destinations[(\"Number all Inclusive\")] > 9 # returns data that are more than 9"
   ]
  },
  {
   "cell_type": "code",
   "execution_count": 77,
   "metadata": {},
   "outputs": [
    {
     "name": "stdout",
     "output_type": "stream",
     "text": [
      "     Destination  feedback score\n",
      "0        Morroco               8\n",
      "1        Nigeria               9\n",
      "2       Cameroun               6\n",
      "3          Ghana               5\n",
      "4          Sudan               3\n",
      "5    GuineaBisau               2\n",
      "6   Burkina Faso               4\n",
      "7           Mali               8\n",
      "8        Tunisia               5\n",
      "9         Gambia               6\n",
      "10       Namibia               7\n",
      "11         Kenya               9\n",
      "12   SouthAfrica               9\n",
      "13         Gabon               7\n",
      "    Destination  feedback score\n",
      "1       Nigeria               9\n",
      "11        Kenya               9\n",
      "12  SouthAfrica               9\n"
     ]
    }
   ],
   "source": [
    "score = x[[\"Destination\",\"feedback score\"]]\n",
    "print(score)\n",
    "above_8 = score[score[\"feedback score\"] > 8]\n",
    "print(above_8)"
   ]
  },
  {
   "cell_type": "code",
   "execution_count": 78,
   "metadata": {},
   "outputs": [
    {
     "name": "stdout",
     "output_type": "stream",
     "text": [
      "Empty DataFrame\n",
      "Columns: [Destination, feedback score]\n",
      "Index: []\n"
     ]
    }
   ],
   "source": [
    "below_2 = score[score[\"feedback score\"] < 2]\n",
    "print(below_2)"
   ]
  },
  {
   "cell_type": "code",
   "execution_count": 105,
   "metadata": {},
   "outputs": [
    {
     "name": "stdout",
     "output_type": "stream",
     "text": [
      "0     20000\n",
      "1      5000\n",
      "2       700\n",
      "3       400\n",
      "4      8000\n",
      "5       300\n",
      "6       600\n",
      "7       900\n",
      "8       200\n",
      "9      3000\n",
      "10      400\n",
      "11      500\n",
      "12      600\n",
      "13      100\n",
      "Name: Number all Inclusive, dtype: int64\n",
      "0     8\n",
      "1     9\n",
      "2     6\n",
      "3     5\n",
      "4     3\n",
      "5     2\n",
      "6     4\n",
      "7     8\n",
      "8     5\n",
      "9     6\n",
      "10    7\n",
      "11    9\n",
      "12    9\n",
      "13    7\n",
      "Name: feedback score, dtype: int64\n",
      "0.13741058047870733\n"
     ]
    }
   ],
   "source": [
    "inclusive = x[\"Number all Inclusive\"]\n",
    "print(inclusive)\n",
    "\n",
    "feedback = x[\"feedback score\"]\n",
    "print(feedback)\n",
    "\n",
    "correlation = inclusive.corr(feedback)#returns correlation from data.\n",
    "print(correlation)"
   ]
  },
  {
   "cell_type": "code",
   "execution_count": 109,
   "metadata": {},
   "outputs": [
    {
     "name": "stdout",
     "output_type": "stream",
     "text": [
      "                      feedback score  Number all Inclusive\n",
      "feedback score              1.000000              0.137411\n",
      "Number all Inclusive        0.137411              1.000000\n"
     ]
    }
   ],
   "source": [
    "z = x[[\"feedback score\", \"Number all Inclusive\"]]\n",
    "corn =z.corr()\n",
    "print(corn)\n"
   ]
  },
  {
   "cell_type": "code",
   "execution_count": 154,
   "metadata": {},
   "outputs": [
    {
     "data": {
      "text/html": [
       "<div>\n",
       "<style scoped>\n",
       "    .dataframe tbody tr th:only-of-type {\n",
       "        vertical-align: middle;\n",
       "    }\n",
       "\n",
       "    .dataframe tbody tr th {\n",
       "        vertical-align: top;\n",
       "    }\n",
       "\n",
       "    .dataframe thead th {\n",
       "        text-align: right;\n",
       "    }\n",
       "</style>\n",
       "<table border=\"1\" class=\"dataframe\">\n",
       "  <thead>\n",
       "    <tr style=\"text-align: right;\">\n",
       "      <th></th>\n",
       "      <th>Destination</th>\n",
       "      <th>feedback score</th>\n",
       "      <th>AverageHotel</th>\n",
       "      <th>Number all Inclusive</th>\n",
       "      <th>Most Visited City</th>\n",
       "    </tr>\n",
       "  </thead>\n",
       "  <tbody>\n",
       "    <tr>\n",
       "      <th>0</th>\n",
       "      <td>Morroco</td>\n",
       "      <td>8</td>\n",
       "      <td>4</td>\n",
       "      <td>20000</td>\n",
       "      <td>Marrakesh</td>\n",
       "    </tr>\n",
       "    <tr>\n",
       "      <th>1</th>\n",
       "      <td>Nigeria</td>\n",
       "      <td>9</td>\n",
       "      <td>3</td>\n",
       "      <td>5000</td>\n",
       "      <td>Abuja</td>\n",
       "    </tr>\n",
       "    <tr>\n",
       "      <th>2</th>\n",
       "      <td>Cameroun</td>\n",
       "      <td>6</td>\n",
       "      <td>3</td>\n",
       "      <td>700</td>\n",
       "      <td>Douala</td>\n",
       "    </tr>\n",
       "    <tr>\n",
       "      <th>3</th>\n",
       "      <td>Ghana</td>\n",
       "      <td>5</td>\n",
       "      <td>2</td>\n",
       "      <td>400</td>\n",
       "      <td>Accra</td>\n",
       "    </tr>\n",
       "    <tr>\n",
       "      <th>4</th>\n",
       "      <td>Sudan</td>\n",
       "      <td>3</td>\n",
       "      <td>4</td>\n",
       "      <td>8000</td>\n",
       "      <td>Khartuom</td>\n",
       "    </tr>\n",
       "    <tr>\n",
       "      <th>5</th>\n",
       "      <td>GuineaBisau</td>\n",
       "      <td>2</td>\n",
       "      <td>1</td>\n",
       "      <td>300</td>\n",
       "      <td>Bolama</td>\n",
       "    </tr>\n",
       "    <tr>\n",
       "      <th>6</th>\n",
       "      <td>Burkina Faso</td>\n",
       "      <td>4</td>\n",
       "      <td>2</td>\n",
       "      <td>600</td>\n",
       "      <td>Banfora</td>\n",
       "    </tr>\n",
       "    <tr>\n",
       "      <th>7</th>\n",
       "      <td>Mali</td>\n",
       "      <td>8</td>\n",
       "      <td>1</td>\n",
       "      <td>900</td>\n",
       "      <td>Bamako</td>\n",
       "    </tr>\n",
       "    <tr>\n",
       "      <th>8</th>\n",
       "      <td>Tunisia</td>\n",
       "      <td>5</td>\n",
       "      <td>2</td>\n",
       "      <td>200</td>\n",
       "      <td>Carthage</td>\n",
       "    </tr>\n",
       "    <tr>\n",
       "      <th>9</th>\n",
       "      <td>Gambia</td>\n",
       "      <td>6</td>\n",
       "      <td>5</td>\n",
       "      <td>3000</td>\n",
       "      <td>Banjul</td>\n",
       "    </tr>\n",
       "    <tr>\n",
       "      <th>10</th>\n",
       "      <td>Namibia</td>\n",
       "      <td>7</td>\n",
       "      <td>1</td>\n",
       "      <td>400</td>\n",
       "      <td>Windhoek</td>\n",
       "    </tr>\n",
       "    <tr>\n",
       "      <th>11</th>\n",
       "      <td>Kenya</td>\n",
       "      <td>9</td>\n",
       "      <td>3</td>\n",
       "      <td>500</td>\n",
       "      <td>Nairobi</td>\n",
       "    </tr>\n",
       "    <tr>\n",
       "      <th>12</th>\n",
       "      <td>SouthAfrica</td>\n",
       "      <td>9</td>\n",
       "      <td>2</td>\n",
       "      <td>600</td>\n",
       "      <td>Johannesburg</td>\n",
       "    </tr>\n",
       "    <tr>\n",
       "      <th>13</th>\n",
       "      <td>Gabon</td>\n",
       "      <td>7</td>\n",
       "      <td>3</td>\n",
       "      <td>100</td>\n",
       "      <td>Port-Gentil</td>\n",
       "    </tr>\n",
       "  </tbody>\n",
       "</table>\n",
       "</div>"
      ],
      "text/plain": [
       "     Destination  feedback score  AverageHotel  Number all Inclusive  \\\n",
       "0        Morroco               8             4                 20000   \n",
       "1        Nigeria               9             3                  5000   \n",
       "2       Cameroun               6             3                   700   \n",
       "3          Ghana               5             2                   400   \n",
       "4          Sudan               3             4                  8000   \n",
       "5    GuineaBisau               2             1                   300   \n",
       "6   Burkina Faso               4             2                   600   \n",
       "7           Mali               8             1                   900   \n",
       "8        Tunisia               5             2                   200   \n",
       "9         Gambia               6             5                  3000   \n",
       "10       Namibia               7             1                   400   \n",
       "11         Kenya               9             3                   500   \n",
       "12   SouthAfrica               9             2                   600   \n",
       "13         Gabon               7             3                   100   \n",
       "\n",
       "   Most Visited City  \n",
       "0          Marrakesh  \n",
       "1              Abuja  \n",
       "2             Douala  \n",
       "3              Accra  \n",
       "4           Khartuom  \n",
       "5             Bolama  \n",
       "6            Banfora  \n",
       "7             Bamako  \n",
       "8           Carthage  \n",
       "9             Banjul  \n",
       "10          Windhoek  \n",
       "11           Nairobi  \n",
       "12      Johannesburg  \n",
       "13       Port-Gentil  "
      ]
     },
     "execution_count": 154,
     "metadata": {},
     "output_type": "execute_result"
    }
   ],
   "source": [
    "x\n"
   ]
  },
  {
   "cell_type": "code",
   "execution_count": 157,
   "metadata": {},
   "outputs": [
    {
     "name": "stdout",
     "output_type": "stream",
     "text": [
      "     Destination  feedback score\n",
      "0        Morroco               8\n",
      "1        Nigeria               9\n",
      "2       Cameroun               6\n",
      "3          Ghana               5\n",
      "4          Sudan               3\n",
      "5    GuineaBisau               2\n",
      "6   Burkina Faso               4\n",
      "7           Mali               8\n",
      "8        Tunisia               5\n",
      "9         Gambia               6\n",
      "10       Namibia               7\n",
      "11         Kenya               9\n",
      "12   SouthAfrica               9\n",
      "13         Gabon               7\n"
     ]
    }
   ],
   "source": [
    "value_score = x[[\"Destination\",\"feedback score\"]]\n",
    "print(value_score)\n"
   ]
  },
  {
   "cell_type": "code",
   "execution_count": 162,
   "metadata": {},
   "outputs": [
    {
     "name": "stdout",
     "output_type": "stream",
     "text": [
      "    Destination  feedback score\n",
      "1       Nigeria               9\n",
      "11        Kenya               9\n",
      "12  SouthAfrica               9\n"
     ]
    }
   ],
   "source": [
    "feedbackk = value_score[value_score[\"feedback score\"] >=9]# returns the highest score\n",
    "print(feedbackk)\n",
    "\n"
   ]
  },
  {
   "cell_type": "code",
   "execution_count": 167,
   "metadata": {},
   "outputs": [
    {
     "data": {
      "image/png": "[encoded data removed]",
      "text/plain": [
       "<Figure size 432x288 with 1 Axes>"
      ]
     },
     "metadata": {},
     "output_type": "display_data"
    }
   ],
   "source": [
    "my_labels = \"Nigeria\",\"Kenya\",\"SouthAfrica\"\n",
    "my_colors = \"Green\",\"Red\",\"Purple\"\n",
    "scores = [9,9,9]\n",
    "plt.pie(scores,labels=my_labels,colors=my_colors,shadow=True,startangle=15)\n",
    "plt.title(\"Destination and highest scores\")\n",
    "plt.axis(\"equal\")\n",
    "plt.show()"
   ]
  }
 ],
 "metadata": {
  "interpreter": {
   "hash": "bcffa6204622ef85947aebc6021b6d22848690e83046bed0c1de5e1c8674fbfb"
  },
  "kernelspec": {
   "display_name": "Python 3.10.0 64-bit",
   "language": "python",
   "name": "python3"
  },
  "language_info": {
   "codemirror_mode": {
    "name": "ipython",
    "version": 3
   },
   "file_extension": ".py",
   "mimetype": "text/x-python",
   "name": "python",
   "nbconvert_exporter": "python",
   "pygments_lexer": "ipython3",
   "version": "3.10.0"
  },
  "orig_nbformat": 4
 },
 "nbformat": 4,
 "nbformat_minor": 2
}
