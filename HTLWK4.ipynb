{
 "cells": [
  {
   "cell_type": "code",
   "execution_count": 4,
   "metadata": {},
   "outputs": [
    {
     "data": {
      "text/plain": [
       "<_io.TextIOWrapper name='number.txt' mode='w' encoding='cp1252'>"
      ]
     },
     "execution_count": 4,
     "metadata": {},
     "output_type": "execute_result"
    }
   ],
   "source": [
    "\"\"\"Task 1\n",
    "Write a program that allows you to enter 4 numbers and stores them in a file called “Numbers”\n",
    "3\n",
    "45\n",
    "83\n",
    "21\n",
    "\"\"\"\n",
    "#create the file name\n",
    "Number = open(\"number.txt\", \"w\")\n",
    "\n",
    "Number"
   ]
  },
  {
   "cell_type": "code",
   "execution_count": 5,
   "metadata": {},
   "outputs": [
    {
     "data": {
      "text/plain": [
       "<_io.TextIOWrapper name='number.txt' mode='r' encoding='cp1252'>"
      ]
     },
     "execution_count": 5,
     "metadata": {},
     "output_type": "execute_result"
    }
   ],
   "source": [
    "Number =open(\"number.txt\", \"r\")\n",
    "\n",
    "Number"
   ]
  },
  {
   "cell_type": "code",
   "execution_count": 6,
   "metadata": {},
   "outputs": [
    {
     "name": "stdout",
     "output_type": "stream",
     "text": [
      "\n"
     ]
    }
   ],
   "source": [
    "print(Number.read())"
   ]
  },
  {
   "cell_type": "code",
   "execution_count": 8,
   "metadata": {},
   "outputs": [
    {
     "data": {
      "text/plain": [
       "<_io.TextIOWrapper name='number.txt' mode='w' encoding='cp1252'>"
      ]
     },
     "execution_count": 8,
     "metadata": {},
     "output_type": "execute_result"
    }
   ],
   "source": [
    "Number = open(\"number.txt\", \"w\")\n",
    "\n",
    "for i in (3,45,83,21):\n",
    "\n",
    "    Number.write(str(i))\n",
    "\n",
    "    Number.write(\"\\n\")\n",
    "\n",
    "Number.close()\n",
    "\n",
    "Number\n"
   ]
  },
  {
   "cell_type": "code",
   "execution_count": 60,
   "metadata": {},
   "outputs": [
    {
     "name": "stdout",
     "output_type": "stream",
     "text": [
      "C\n"
     ]
    }
   ],
   "source": [
    "\"\"\"Task 2a\n",
    "Write a program to ask a student for their percentage mark and convert this to a grade.\n",
    "\"\"\"\n",
    "\n",
    "Chemistry_mark = int(input(\"What is your percentage mark?:\"))\n",
    "\n",
    "Biology_mark = int(input(\"What is your percentage mark?:\"))\n",
    "\n",
    "Math_mark = int(input(\"What is your percentage mark?:\"))\n",
    "\n",
    "English_mark = int(input(\"What is your percentage mark?:\"))\n",
    "\n",
    "Physisc_mark = int(input(\"What is your percentage mark?:\"))\n",
    "\n",
    "Chm =Chemistry_mark\n",
    "Bio = Biology_mark\n",
    "Mat = Math_mark\n",
    "En = English_mark\n",
    "Phy = Physisc_mark\n",
    "\n",
    "def mark_grade (Chm,Bio,Mat,En,Phy):\n",
    "    Total = Chm + Phy + Bio + Mat + En\n",
    "    \n",
    "    Percentage = (Total / 500) * 100\n",
    "\n",
    "    return Percentage\n",
    "\n",
    "if mark_grade(Chm,Bio,Mat,En,Phy) <=50:\n",
    "    \n",
    "    print(\"C\")\n",
    "\n",
    "elif mark_grade(Chm,Bio,Mat,En,Phy) >=90:\n",
    "    print ( \"A\"  )\n",
    "\n",
    "\n"
   ]
  },
  {
   "cell_type": "code",
   "execution_count": 61,
   "metadata": {},
   "outputs": [
    {
     "name": "stdout",
     "output_type": "stream",
     "text": [
      "A : 42.0\n"
     ]
    }
   ],
   "source": [
    "\"\"\"Task 2b\n",
    "Ask the user for their target grade and print this with their mark.\n",
    "\"\"\"\n",
    "grade_target = str(input(\"what is your target grade?\"))\n",
    "\n",
    "print(grade_target,\":\", mark_grade(Chm,Bio,Mat,En,Phy))\n"
   ]
  },
  {
   "cell_type": "code",
   "execution_count": 62,
   "metadata": {},
   "outputs": [
    {
     "name": "stdout",
     "output_type": "stream",
     "text": [
      "You failed\n"
     ]
    }
   ],
   "source": [
    "\"\"\"\n",
    "If their target grade > exam grade display a suitable message.\n",
    "If their target grade = exam grade display a suitable message•\n",
    "If their target grade < exam grade display a suitable message.\n",
    "\"\"\"\n",
    "exam_grade = \"C\"\n",
    "\n",
    "if grade_target > exam_grade:\n",
    "    print(\"You didnt make it to the required grade\")\n",
    "else:\n",
    "    if grade_target == exam_grade:\n",
    "        print(\"Weldone\")\n",
    "    elif grade_target < exam_grade:\n",
    "        print(\"You failed\")\n",
    "\n"
   ]
  },
  {
   "cell_type": "code",
   "execution_count": 3,
   "metadata": {},
   "outputs": [],
   "source": [
    "\"\"\"task 3\n",
    "Create a 1D array of numbers from 0 to9\n",
    "1.Create a 1D array of numbers from 0 to9\n",
    "2.Create a 3×3 NumPy array of allBoolean value Trues\n",
    "3.Extract all odd numbers from array of 1-10\n",
    "4.Replace all odd numbers in an array of 1-10 with the value -1\n",
    "5.Convert a 1D array to a 2D array with 2rows\n",
    "6.Create two arrays a and b, stack these two arrays vertically use the  np.dot and np.sum to calculatetotalsExtension\n",
    "\"\"\"\n",
    "import numpy as np"
   ]
  },
  {
   "cell_type": "code",
   "execution_count": 17,
   "metadata": {},
   "outputs": [
    {
     "name": "stdout",
     "output_type": "stream",
     "text": [
      "[0 1 2 3 4 5 6 7 8]\n"
     ]
    }
   ],
   "source": [
    "#1\n",
    "\n",
    "import numpy as np\n",
    "\n",
    "array = np.arange(0,9)\n",
    "\n",
    "print(array)\n"
   ]
  },
  {
   "cell_type": "code",
   "execution_count": 23,
   "metadata": {},
   "outputs": [
    {
     "name": "stdout",
     "output_type": "stream",
     "text": [
      "[[ True  True  True]\n",
      " [ True  True  True]\n",
      " [ True  True  True]]\n"
     ]
    },
    {
     "data": {
      "text/plain": [
       "<function print>"
      ]
     },
     "execution_count": 23,
     "metadata": {},
     "output_type": "execute_result"
    }
   ],
   "source": [
    "#2\n",
    "values = np.arange(1,10) # create an array of values from 1 to 10\n",
    "\n",
    "bool_arr =np.array(values, dtype =bool) #dype parameter to specify the values to only be boolean\n",
    "\n",
    "boolen_arr = bool_arr.reshape(3,3) #reshapes the array\n",
    "\n",
    "print(boolen_arr)\n",
    "\n",
    "print"
   ]
  },
  {
   "cell_type": "code",
   "execution_count": 30,
   "metadata": {},
   "outputs": [
    {
     "name": "stdout",
     "output_type": "stream",
     "text": [
      "[1 3 5 7 9]\n"
     ]
    }
   ],
   "source": [
    "#3\n",
    "\n",
    "a = np.arange(1,10) #array of numbers from 1-10\n",
    "\n",
    "print(a[a % 2 ==1])\n"
   ]
  },
  {
   "cell_type": "code",
   "execution_count": 40,
   "metadata": {},
   "outputs": [
    {
     "name": "stdout",
     "output_type": "stream",
     "text": [
      "(array([0, 1, 2, 3, 4, 5, 6, 7, 8], dtype=int64),)\n"
     ]
    }
   ],
   "source": [
    "#4\n",
    "b = np.arange(1,10)\n",
    "\n",
    "c =np.where(a[a%2])\n",
    "\n",
    "d = np.clip(c, -1,1)\n",
    "\n",
    "print(c)\n"
   ]
  },
  {
   "cell_type": "code",
   "execution_count": 46,
   "metadata": {},
   "outputs": [
    {
     "name": "stdout",
     "output_type": "stream",
     "text": [
      "[[3 4]\n",
      " [5 6]]\n"
     ]
    }
   ],
   "source": [
    "#5\n",
    "\n",
    "one_array =np.arange(3,7)\n",
    "\n",
    "two_D = one_array.reshape(2,2)\n",
    "\n",
    "print(two_D)"
   ]
  },
  {
   "cell_type": "code",
   "execution_count": 60,
   "metadata": {},
   "outputs": [
    {
     "name": "stdout",
     "output_type": "stream",
     "text": [
      "[[ 84  90  96]\n",
      " [201 216 231]\n",
      " [318 342 366]]\n",
      "1944\n"
     ]
    }
   ],
   "source": [
    "#6\n",
    "\n",
    "z = np.arange(1,10).reshape(3,3)\n",
    "\n",
    "x = np.arange(10,19).reshape(3,3)\n",
    "\n",
    "q = np.vstack(z)#vertically stack array\n",
    "\n",
    "v = np.vstack(x) #vertically stack array\n",
    "\n",
    "d = np.dot(q,v) #prduce product of the elements in the array\n",
    "\n",
    "e = np.sum(d)# produce sum of the elements in the array\n",
    "\n",
    "print(d)\n",
    "print(e)"
   ]
  },
  {
   "cell_type": "code",
   "execution_count": 80,
   "metadata": {},
   "outputs": [
    {
     "name": "stdout",
     "output_type": "stream",
     "text": [
      "[4 5 6 7 8 9]\n"
     ]
    }
   ],
   "source": [
    "#extension 2\n",
    "\n",
    "a = [1,2,3,4,5]\n",
    "\n",
    "b = [4,5,6,7,8,9]\n",
    "\n",
    "\n",
    "print(np.unique(b))#removes repeating elements in the array\n",
    "\n",
    "\n"
   ]
  }
 ],
 "metadata": {
  "interpreter": {
   "hash": "bcffa6204622ef85947aebc6021b6d22848690e83046bed0c1de5e1c8674fbfb"
  },
  "kernelspec": {
   "display_name": "Python 3.10.0 64-bit",
   "language": "python",
   "name": "python3"
  },
  "language_info": {
   "codemirror_mode": {
    "name": "ipython",
    "version": 3
   },
   "file_extension": ".py",
   "mimetype": "text/x-python",
   "name": "python",
   "nbconvert_exporter": "python",
   "pygments_lexer": "ipython3",
   "version": "3.10.0"
  },
  "orig_nbformat": 4
 },
 "nbformat": 4,
 "nbformat_minor": 2
}
