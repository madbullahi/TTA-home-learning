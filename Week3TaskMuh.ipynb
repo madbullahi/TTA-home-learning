{
 "cells": [
  {
   "cell_type": "code",
   "execution_count": null,
   "metadata": {},
   "outputs": [],
   "source": [
    "\"\"\"Task 1\n",
    "Create your own Flow Diagram,\n",
    "a subject of your own choice, \n",
    "Example: Fast food order and convert it into code.\n",
    "\"\"\"\n",
    "destination =input(\"Whwere are you travelling to?\")\n",
    "\n",
    "ticket =input(\"Please select ticket type\")\n",
    "\n",
    "Age =input(\"What is your age?\")\n",
    "\n",
    "departure =input(\"Select your departure time\")\n",
    "\n",
    "if Age <12 or Age >50:\n",
    "    print(\"you cannot travel alone\")\n",
    "\n",
    "else:\n",
    "    print(\"You can proceed to pay for your ticket to ... and your expected .... time is ...\")"
   ]
  },
  {
   "cell_type": "code",
   "execution_count": 22,
   "metadata": {},
   "outputs": [
    {
     "name": "stdout",
     "output_type": "stream",
     "text": [
      "the new bike value: 2000\n",
      "1800.0\n"
     ]
    }
   ],
   "source": [
    "\"\"\"Task 2\n",
    "As an extension to the motorbike task that costs £2000 and loses 10% of its value every year. \n",
    "Set up a function that performs the calculation by passing in parameters. \n",
    "Then using a loop, print the value of the bike every following year until it falls below £1000.\n",
    "\"\"\"\n",
    "bike =2000\n",
    "\n",
    "loss =0.9\n",
    "\n",
    "def calculate_value (bike, loss):\n",
    "    while bike >1000 and bike !=1000:\n",
    "        print(\"the new bike value:\",bike)\n",
    "        bike =bike*loss\n",
    "        return bike\n",
    "\n",
    "message =calculate_value(bike, loss)\n",
    "\n",
    "print(message)\n",
    "\n",
    "\n",
    "\n",
    "    \n"
   ]
  },
  {
   "cell_type": "code",
   "execution_count": 30,
   "metadata": {},
   "outputs": [
    {
     "name": "stdout",
     "output_type": "stream",
     "text": [
      "1.5\n"
     ]
    }
   ],
   "source": [
    "\"\"\"Task 3\n",
    "Write a program which will ask for two numbers from a user. \n",
    "Then offer an option menu to the user giving them a choice of math\n",
    "soperators. \n",
    "Once the user has selected which operator they wish to use, \n",
    "perform the calculation by using a procedure and passing parameters. \n",
    "\"\"\"\n",
    "number_1=int(input(\"Choose any number of your choice\"))\n",
    "\n",
    "number_2=int(input(\"Choose a second number of your choice\"))\n",
    "\n",
    "operators=input(\"+,-,/,*,**\")\n",
    "\n",
    "sign =operators\n",
    "\n",
    "def procedure (number_1, number_2):\n",
    "    if sign == \"+\":\n",
    "        print(number_1 + number_2)\n",
    "    elif sign ==\"-\":\n",
    "        print(number_1 - number_2)\n",
    "    elif sign ==\"/\":\n",
    "        print (number_1 / number_2)\n",
    "    elif sign ==\"*\":\n",
    "        print(number_1 * number_2)\n",
    "    elif sign ==\"**\":\n",
    "        print(number_1 ** number_2)\n",
    "    else:\n",
    "        print(\"An appropriate operator was not selected\")\n",
    "\n",
    "procedure(number_1, number_2)\n",
    "\n",
    "\n"
   ]
  }
 ],
 "metadata": {
  "interpreter": {
   "hash": "bcffa6204622ef85947aebc6021b6d22848690e83046bed0c1de5e1c8674fbfb"
  },
  "kernelspec": {
   "display_name": "Python 3.10.0 64-bit",
   "language": "python",
   "name": "python3"
  },
  "language_info": {
   "codemirror_mode": {
    "name": "ipython",
    "version": 3
   },
   "file_extension": ".py",
   "mimetype": "text/x-python",
   "name": "python",
   "nbconvert_exporter": "python",
   "pygments_lexer": "ipython3",
   "version": "3.10.0"
  },
  "orig_nbformat": 4
 },
 "nbformat": 4,
 "nbformat_minor": 2
}
